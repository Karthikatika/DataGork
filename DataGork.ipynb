{
  "nbformat": 4,
  "nbformat_minor": 0,
  "metadata": {
    "colab": {
      "provenance": []
    },
    "kernelspec": {
      "name": "python3",
      "display_name": "Python 3"
    },
    "language_info": {
      "name": "python"
    }
  },
  "cells": [
    {
      "cell_type": "code",
      "execution_count": null,
      "metadata": {
        "colab": {
          "base_uri": "https://localhost:8080/"
        },
        "id": "YYcFmNV5SxV5",
        "outputId": "16079ddc-18e0-4805-afb3-b20374e65795"
      },
      "outputs": [
        {
          "output_type": "stream",
          "name": "stdout",
          "text": [
            "Looking in indexes: https://pypi.org/simple, https://us-python.pkg.dev/colab-wheels/public/simple/\n",
            "Collecting pyspark\n",
            "  Downloading pyspark-3.3.0.tar.gz (281.3 MB)\n",
            "\u001b[K     |████████████████████████████████| 281.3 MB 56 kB/s \n",
            "\u001b[?25hCollecting py4j==0.10.9.5\n",
            "  Downloading py4j-0.10.9.5-py2.py3-none-any.whl (199 kB)\n",
            "\u001b[K     |████████████████████████████████| 199 kB 91.4 MB/s \n",
            "\u001b[?25hBuilding wheels for collected packages: pyspark\n",
            "  Building wheel for pyspark (setup.py) ... \u001b[?25l\u001b[?25hdone\n",
            "  Created wheel for pyspark: filename=pyspark-3.3.0-py2.py3-none-any.whl size=281764026 sha256=f570b40c93b7eb434c08d313bbda44274979aaa32f4281c01a7cb75ce8a0ab51\n",
            "  Stored in directory: /root/.cache/pip/wheels/7a/8e/1b/f73a52650d2e5f337708d9f6a1750d451a7349a867f928b885\n",
            "Successfully built pyspark\n",
            "Installing collected packages: py4j, pyspark\n",
            "Successfully installed py4j-0.10.9.5 pyspark-3.3.0\n"
          ]
        }
      ],
      "source": [
        "pip install pyspark"
      ]
    },
    {
      "cell_type": "code",
      "source": [
        "from pyspark.sql import SparkSession\n",
        "spark = (SparkSession\n",
        ".builder\n",
        ".appName(\"<app_name>\")\n",
        ".getOrCreate())"
      ],
      "metadata": {
        "id": "WngZvhkshYaL"
      },
      "execution_count": null,
      "outputs": []
    },
    {
      "cell_type": "code",
      "source": [
        "wc_info=spark.read.option('header','true').csv('/content/drive/MyDrive/chess_wc_history_game_info.csv',inferSchema=True)\n",
        "wc_moves=spark.read.option('header','true').csv('/content/drive/MyDrive/chess_wc_history_moves.csv',inferSchema=True)\n",
        "echo=spark.read.option('header','True').csv('/content/drive/MyDrive/eco_codes.csv',inferSchema=True)"
      ],
      "metadata": {
        "id": "HTzo2DZpUdrQ"
      },
      "execution_count": null,
      "outputs": []
    },
    {
      "cell_type": "code",
      "source": [
        "wc_info.head()"
      ],
      "metadata": {
        "colab": {
          "base_uri": "https://localhost:8080/"
        },
        "id": "1CQIWEwSvJE9",
        "outputId": "2b3df5e3-62e7-4ea2-c6f5-6c74244daeb8"
      },
      "execution_count": null,
      "outputs": [
        {
          "output_type": "execute_result",
          "data": {
            "text/plain": [
              "Row(game_id='86e0b7f5-7b94-4ae3-97c8-317371622795', game_order=1, event='WCh 2021', site='Dubai UAE', date_played='2021.11.26', round=1.0, white='Nepomniachtchi,I', black='Carlsen,M', result='1/2-1/2', white_elo=2782, black_elo=2855, white_title=None, black_title=None, winner='draw', winner_elo=None, loser='draw', loser_elo=None, winner_loser_elo_diff=0, eco='C88', date_created=datetime.datetime(2022, 7, 22, 22, 33, 50), tournament_name='WorldChamp2021')"
            ]
          },
          "metadata": {},
          "execution_count": 11
        }
      ]
    },
    {
      "cell_type": "code",
      "source": [
        "wc_moves.head()"
      ],
      "metadata": {
        "id": "Q4zVPO0-tQsQ",
        "colab": {
          "base_uri": "https://localhost:8080/"
        },
        "outputId": "a87ca24f-350b-4658-9c6c-482d2c7664b5"
      },
      "execution_count": null,
      "outputs": [
        {
          "output_type": "execute_result",
          "data": {
            "text/plain": [
              "Row(game_id='86e0b7f5-7b94-4ae3-97c8-317371622795', move_no=1, move_no_pair=1, player='Nepomniachtchi,I', notation='e4', move='e2e4', from_square='e2', to_square='e4', piece='P', color='White', fen='rnbqkbnr/pppppppp/8/8/4P3/8/PPPP1PPP/RNBQKBNR', is_check=0, is_check_mate=0, is_fifty_moves=0, is_fivefold_repetition=0, is_game_over=0, is_insufficient_material=0, white_count=16, black_count=16, white_pawn_count=8, black_pawn_count=8, white_queen_count=1, black_queen_count=1, white_bishop_count=2, black_bishop_count=2, white_knight_count=2, black_knight_count=2, white_rook_count=2, black_rook_count=2, captured_score_for_white=0, captured_score_for_black=0, fen_row1_white_count=8, fen_row2_white_count=7, fen_row3_white_count=0, fen_row4_white_count=1, fen_row5_white_count=0, fen_row6_white_count=0, fen_row7_white_count=0, fen_row8_white_count=0, fen_row1_white_value=31, fen_row2_white_value=7, fen_row3_white_value=0, fen_row4_white_value=1, fen_row5_white_value=0, fen_row6_white_value=0, fen_row7_white_value=0, fen_row8_white_value=0, fen_row1_black_count=0, fen_row2_black_count=0, fen_row3_black_count=0, fen_row4_black_count=0, fen_row5_black_count=0, fen_row6_black_count=0, fen_row7_black_count=8, fen_row8_black_count=8, fen_row1_black_value=0, fen_row2_black_value=0, fen_row3_black_value=0, fen_row4_black_value=0, fen_row5_black_value=0, fen_row6_black_value=0, fen_row7_black_value=8, fen_row8_black_value=31, move_sequence='e4')"
            ]
          },
          "metadata": {},
          "execution_count": 12
        }
      ]
    },
    {
      "cell_type": "code",
      "source": [
        "echo.head()"
      ],
      "metadata": {
        "id": "t4g3wP4xuttN",
        "colab": {
          "base_uri": "https://localhost:8080/"
        },
        "outputId": "443f70d6-2e9a-4eaa-d57d-7cc2f3e3953d"
      },
      "execution_count": null,
      "outputs": [
        {
          "output_type": "execute_result",
          "data": {
            "text/plain": [
              "Row(eco='A00', eco_name='Uncommon Opening', eco_example='1 g4, a3, h3, etc.', eco_type='A', eco_group='Flank')"
            ]
          },
          "metadata": {},
          "execution_count": 13
        }
      ]
    },
    {
      "cell_type": "code",
      "source": [
        "df = merge(x=wc_info,y=wc_moves,by=\"CustomerId\")\n",
        "df"
      ],
      "metadata": {
        "id": "eqnhRmD9u6ub",
        "colab": {
          "base_uri": "https://localhost:8080/",
          "height": 182
        },
        "outputId": "1721980d-89a2-4380-fa4d-d13406a21da1"
      },
      "execution_count": 1,
      "outputs": [
        {
          "output_type": "error",
          "ename": "NameError",
          "evalue": "ignored",
          "traceback": [
            "\u001b[0;31m---------------------------------------------------------------------------\u001b[0m",
            "\u001b[0;31mNameError\u001b[0m                                 Traceback (most recent call last)",
            "\u001b[0;32m<ipython-input-1-ac600b66ff99>\u001b[0m in \u001b[0;36m<module>\u001b[0;34m\u001b[0m\n\u001b[0;32m----> 1\u001b[0;31m \u001b[0mdf\u001b[0m \u001b[0;34m=\u001b[0m \u001b[0mmerge\u001b[0m\u001b[0;34m(\u001b[0m\u001b[0mx\u001b[0m\u001b[0;34m=\u001b[0m\u001b[0mwc_info\u001b[0m\u001b[0;34m,\u001b[0m\u001b[0my\u001b[0m\u001b[0;34m=\u001b[0m\u001b[0mwc_moves\u001b[0m\u001b[0;34m,\u001b[0m\u001b[0mby\u001b[0m\u001b[0;34m=\u001b[0m\u001b[0;34m\"CustomerId\"\u001b[0m\u001b[0;34m)\u001b[0m\u001b[0;34m\u001b[0m\u001b[0;34m\u001b[0m\u001b[0m\n\u001b[0m\u001b[1;32m      2\u001b[0m \u001b[0mdf\u001b[0m\u001b[0;34m\u001b[0m\u001b[0;34m\u001b[0m\u001b[0m\n",
            "\u001b[0;31mNameError\u001b[0m: name 'merge' is not defined"
          ]
        }
      ]
    },
    {
      "cell_type": "code",
      "source": [],
      "metadata": {
        "id": "0z7TaqkxwQbK"
      },
      "execution_count": null,
      "outputs": []
    },
    {
      "cell_type": "code",
      "source": [],
      "metadata": {
        "colab": {
          "base_uri": "https://localhost:8080/",
          "height": 165
        },
        "id": "8xurg39zjRhB",
        "outputId": "e98be4e4-649a-4fb0-fef0-35c4663f59c9"
      },
      "execution_count": null,
      "outputs": [
        {
          "output_type": "error",
          "ename": "TypeError",
          "evalue": "ignored",
          "traceback": [
            "\u001b[0;31m---------------------------------------------------------------------------\u001b[0m",
            "\u001b[0;31mTypeError\u001b[0m                                 Traceback (most recent call last)",
            "\u001b[0;32m<ipython-input-20-60b7e2d0a8a2>\u001b[0m in \u001b[0;36m<module>\u001b[0;34m\u001b[0m\n\u001b[0;32m----> 1\u001b[0;31m \u001b[0munionAll\u001b[0m\u001b[0;34m(\u001b[0m\u001b[0;34m*\u001b[0m\u001b[0;34m[\u001b[0m\u001b[0mwc_info\u001b[0m\u001b[0;34m,\u001b[0m \u001b[0mwc_moves\u001b[0m\u001b[0;34m]\u001b[0m\u001b[0;34m)\u001b[0m\u001b[0;34m.\u001b[0m\u001b[0mshow\u001b[0m\u001b[0;34m(\u001b[0m\u001b[0;34m)\u001b[0m\u001b[0;34m\u001b[0m\u001b[0;34m\u001b[0m\u001b[0m\n\u001b[0m",
            "\u001b[0;31mTypeError\u001b[0m: unionAll() takes 1 positional argument but 2 were given"
          ]
        }
      ]
    }
  ]
}